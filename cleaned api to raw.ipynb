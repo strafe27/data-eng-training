{
 "cells": [
  {
   "cell_type": "code",
   "execution_count": null,
   "metadata": {
    "application/vnd.databricks.v1+cell": {
     "cellMetadata": {
      "byteLimit": 2048000,
      "rowLimit": 10000
     },
     "inputWidgets": {},
     "nuid": "8ce88bef-3046-418f-b3cc-ec282f6a2e6d",
     "showTitle": false,
     "title": ""
    }
   },
   "outputs": [],
   "source": [
    "import requests\n",
    "import pytz\n",
    "import csv\n",
    "from datetime import datetime, timedelta\n",
    "from pyspark.sql import Row  "
   ]
  },
  {
   "cell_type": "code",
   "execution_count": null,
   "metadata": {
    "application/vnd.databricks.v1+cell": {
     "cellMetadata": {
      "byteLimit": 2048000,
      "rowLimit": 10000
     },
     "inputWidgets": {},
     "nuid": "f8d9b8ce-1902-454f-96f6-afc24e0323a2",
     "showTitle": false,
     "title": ""
    }
   },
   "outputs": [],
   "source": [
    "API_KEY = '***'\n",
    "BASE_URL = 'https://aeroapi.flightaware.com/aeroapi'\n",
    "\n",
    "headers = {\n",
    "    'x-apikey': API_KEY\n",
    "}"
   ]
  },
  {
   "cell_type": "code",
   "execution_count": null,
   "metadata": {
    "application/vnd.databricks.v1+cell": {
     "cellMetadata": {
      "byteLimit": 2048000,
      "rowLimit": 10000
     },
     "inputWidgets": {},
     "nuid": "8dbacbb1-18e5-49a8-9436-955e5fb0a1f5",
     "showTitle": false,
     "title": ""
    }
   },
   "outputs": [],
   "source": [
    "# Define Malaysia's timezone\n",
    "malaysia_tz = pytz.timezone('Asia/Kuala_Lumpur')\n",
    "\n",
    "# Get the current time in Malaysia\n",
    "malaysia_time = datetime.now(malaysia_tz)\n",
    "\n",
    "# Subtract one and two hours\n",
    "malaysia_time_minus_one_hour = malaysia_time - timedelta(hours=2)\n",
    "malaysia_time_minus_two_hour = malaysia_time - timedelta(hours=3)\n",
    "\n",
    "# Format the time in the desired format\n",
    "end_time_myt = malaysia_time_minus_one_hour.strftime('%Y-%m-%dT%H:00:00')\n",
    "start_time_myt = malaysia_time_minus_two_hour.strftime('%Y-%m-%dT%H:00:00')\n",
    "\n",
    "airport_code = 'WMKK'"
   ]
  },
  {
   "cell_type": "markdown",
   "metadata": {
    "application/vnd.databricks.v1+cell": {
     "cellMetadata": {
      "byteLimit": 2048000,
      "rowLimit": 10000
     },
     "inputWidgets": {},
     "nuid": "c0ed35cc-bfd1-4c14-8988-4aed2e31945e",
     "showTitle": false,
     "title": ""
    }
   },
   "source": [
    "TRANSFORMATION DEPARTURE"
   ]
  },
  {
   "cell_type": "code",
   "execution_count": null,
   "metadata": {
    "application/vnd.databricks.v1+cell": {
     "cellMetadata": {
      "byteLimit": 2048000,
      "rowLimit": 10000
     },
     "inputWidgets": {},
     "nuid": "362ef0ba-00f2-4c21-8a06-569178490ac9",
     "showTitle": false,
     "title": ""
    }
   },
   "outputs": [
    {
     "name": "stdout",
     "output_type": "stream",
     "text": [
      "+---------+-------------+-------------+-----------------------+--------------------+------------------+--------------------+----------------+\n",
      "|flight_id|flight_number|aircraft_type|scheduled_departure_myt|actual_departure_myt|            origin|         destination|gate_destination|\n",
      "+---------+-------------+-------------+-----------------------+--------------------+------------------+--------------------+----------------+\n",
      "|  MAS2634|         2634|        B38M |    2024-09-03 14:50:00| 2024-09-03 14:59:07|Kuala Lumpur Int'l|         RMAF Labuan|            NULL|\n",
      "|   AXM886|          886|        A320 |    2024-09-03 14:30:00| 2024-09-03 14:56:42|Kuala Lumpur Int'l|Don Muang Int'l (...|            NULL|\n",
      "|   XAX522|          522|        A333 |    2024-09-03 14:35:00| 2024-09-03 14:53:54|Kuala Lumpur Int'l|Tokyo Int'l (Haneda)|            NULL|\n",
      "|   TNU674|          674|        A320 |    2024-09-03 14:40:00| 2024-09-03 14:53:51|Kuala Lumpur Int'l|Jakarta-Soekarno-...|            NULL|\n",
      "|   AXM522|          522|        A320 |    2024-09-03 14:50:00| 2024-09-03 14:46:10|Kuala Lumpur Int'l|  Tan Son Nhat Int'l|            NULL|\n",
      "|  AXM5174|         5174|        A320 |    2024-09-03 14:30:00| 2024-09-03 14:40:40|Kuala Lumpur Int'l|         RMAF Labuan|            NULL|\n",
      "|  MAS2664|         2664|        B738 |    2024-09-03 14:45:00| 2024-09-03 14:38:29|Kuala Lumpur Int'l|               Tawau|            NULL|\n",
      "|  MXD2206|         2206|        B738 |    2024-09-03 13:45:00| 2024-09-03 14:36:16|Kuala Lumpur Int'l|      Langkawi Int'l|            NULL|\n",
      "|   MAS758|          758|        B738 |    2024-09-03 14:40:00| 2024-09-03 14:34:54|Kuala Lumpur Int'l|  Tan Son Nhat Int'l|            NULL|\n",
      "|  MXD2405|         2405|        B738 |    2024-09-03 14:10:00| 2024-09-03 14:31:11|Kuala Lumpur Int'l|Senai Int'l (Sult...|            NULL|\n",
      "|  MAS2616|         2616|        B38M |    2024-09-03 14:25:00| 2024-09-03 14:29:42|Kuala Lumpur Int'l| Kota Kinabalu Int'l|            NULL|\n",
      "|   ANA886|          886|        B789 |    2024-09-03 14:25:00| 2024-09-03 14:23:55|Kuala Lumpur Int'l|Tokyo Int'l (Haneda)|            NULL|\n",
      "|  RMY1862|         1862|         NULL|    2024-09-03 14:29:12| 2024-09-03 14:21:50|Kuala Lumpur Int'l|       Kuching Int'l|            NULL|\n",
      "|   MXD193|          193|        B738 |    2024-09-03 14:15:00| 2024-09-03 14:19:47|Kuala Lumpur Int'l|Ngurah Rai/Bali Intl|            NULL|\n",
      "|  AXM5194|         5194|        A20N |    2024-09-03 14:25:00| 2024-09-03 14:18:01|Kuala Lumpur Int'l|            Sandakan|            NULL|\n",
      "+---------+-------------+-------------+-----------------------+--------------------+------------------+--------------------+----------------+\n",
      "\n"
     ]
    }
   ],
   "source": [
    "def sanitize_filename(filename):\n",
    "    # Replace problematic characters with underscores\n",
    "    return filename.replace(':', '_')\n",
    "\n",
    "def convert_myt_to_utc(myt_time_str):\n",
    "    myt_time = datetime.strptime(myt_time_str, '%Y-%m-%dT%H:%M:%S')\n",
    "    utc_time = myt_time - timedelta(hours=8)\n",
    "    return utc_time.isoformat()\n",
    "\n",
    "def convert_utc_to_myt(utc_time_str):\n",
    "    utc_time = datetime.strptime(utc_time_str, '%Y-%m-%dT%H:%M:%SZ')\n",
    "    myt_time = utc_time + timedelta(hours=8)\n",
    "    return myt_time.strftime('%Y-%m-%d %H:%M:%S')\n",
    "\n",
    "def get_recent_departures(airport_code, start_time_myt, end_time_myt):\n",
    "    start_time_iso = convert_myt_to_utc(start_time_myt) + 'Z'\n",
    "    end_time_iso = convert_myt_to_utc(end_time_myt) + 'Z'\n",
    "    \n",
    "    endpoint = f'{BASE_URL}/airports/{airport_code}/flights/departures'\n",
    "    params = {\n",
    "        'start': start_time_iso,\n",
    "        'end': end_time_iso\n",
    "    }\n",
    "    \n",
    "    response = requests.get(endpoint, headers=headers, params=params)\n",
    "    if response.status_code == 200:\n",
    "        return response.json()\n",
    "    else:\n",
    "        return response.text\n",
    "\n",
    "def convert_to_dataframe(spark, data):\n",
    "    # Define the schema explicitly\n",
    "    schema = StructType([\n",
    "        StructField(\"flight_id\", StringType(), True),\n",
    "        StructField(\"flight_number\", StringType(), True),\n",
    "        StructField(\"aircraft_type\", StringType(), True),\n",
    "        StructField(\"scheduled_departure_myt\", StringType(), True),\n",
    "        StructField(\"actual_departure_myt\", StringType(), True),\n",
    "        StructField(\"origin\", StringType(), True),\n",
    "        StructField(\"destination\", StringType(), True),\n",
    "        StructField(\"gate_destination\", StringType(), True)\n",
    "    ])\n",
    "    \n",
    "    # Create a list of Row objects\n",
    "    rows = [\n",
    "        Row(\n",
    "            flight_id=flight.get('ident', 'N/A'),\n",
    "            flight_number=flight.get('flight_number', 'N/A'),\n",
    "            aircraft_type=flight.get('aircraft_type', 'N/A'),\n",
    "            scheduled_departure_myt=convert_utc_to_myt(flight.get('scheduled_off', 'N/A')),\n",
    "            actual_departure_myt=convert_utc_to_myt(flight.get('actual_off', 'N/A')),\n",
    "            origin=flight.get('origin', {}).get('name', 'N/A'),\n",
    "            destination=flight.get('destination', {}).get('name', 'N/A'),\n",
    "            gate_destination=flight.get('gate_destination', 'N/A')\n",
    "        )\n",
    "        for flight in data.get('departures', [])\n",
    "    ]\n",
    "    \n",
    "    # Convert the list of Rows into a DataFrame with the predefined schema\n",
    "    df = spark.createDataFrame(rows, schema=schema)\n",
    "    return df\n",
    "\n",
    "# Fetch recent departures\n",
    "recent_departures = get_recent_departures(airport_code, start_time_myt, end_time_myt)\n",
    "\n",
    "# Check if the data is in JSON format\n",
    "if isinstance(recent_departures, dict):\n",
    "    df_departures = convert_to_dataframe(spark, recent_departures)\n",
    "    df_departures.show()  # Display the DataFrame\n",
    "else:\n",
    "    print(\"Error fetching data:\", recent_departures)\n"
   ]
  },
  {
   "cell_type": "markdown",
   "metadata": {
    "application/vnd.databricks.v1+cell": {
     "cellMetadata": {
      "byteLimit": 2048000,
      "rowLimit": 10000
     },
     "inputWidgets": {},
     "nuid": "2b36fe3b-205e-4ac7-9a77-051db19ec61d",
     "showTitle": false,
     "title": ""
    }
   },
   "source": [
    "SAVE FILES DEPARTURE"
   ]
  },
  {
   "cell_type": "code",
   "execution_count": null,
   "metadata": {
    "application/vnd.databricks.v1+cell": {
     "cellMetadata": {
      "byteLimit": 2048000,
      "rowLimit": 10000
     },
     "inputWidgets": {},
     "nuid": "fad05b8b-04a9-4cc2-8200-79482d3cb697",
     "showTitle": false,
     "title": ""
    }
   },
   "outputs": [
    {
     "data": {
      "text/plain": [
       "\u001b[0;31m---------------------------------------------------------------------------\u001b[0m\n",
       "\u001b[0;31mAttributeError\u001b[0m                            Traceback (most recent call last)\n",
       "File \u001b[0;32m<command-189052836661557>, line 68\u001b[0m\n",
       "\u001b[1;32m     66\u001b[0m \u001b[38;5;66;03m# Check if the data is in JSON format\u001b[39;00m\n",
       "\u001b[1;32m     67\u001b[0m \u001b[38;5;28;01mif\u001b[39;00m \u001b[38;5;28misinstance\u001b[39m(recent_departures, \u001b[38;5;28mdict\u001b[39m):\n",
       "\u001b[0;32m---> 68\u001b[0m     df_departures \u001b[38;5;241m=\u001b[39m convert_to_dataframe(spark, recent_departures)\n",
       "\u001b[1;32m     69\u001b[0m     df_departures\u001b[38;5;241m.\u001b[39mshow()  \u001b[38;5;66;03m# Display the DataFrame\u001b[39;00m\n",
       "\u001b[1;32m     70\u001b[0m \u001b[38;5;28;01melse\u001b[39;00m:\n",
       "\n",
       "File \u001b[0;32m<command-189052836661557>, line 45\u001b[0m, in \u001b[0;36mconvert_to_dataframe\u001b[0;34m(spark, data)\u001b[0m\n",
       "\u001b[1;32m     33\u001b[0m schema \u001b[38;5;241m=\u001b[39m StructType([\n",
       "\u001b[1;32m     34\u001b[0m     StructField(\u001b[38;5;124m\"\u001b[39m\u001b[38;5;124mflight_id\u001b[39m\u001b[38;5;124m\"\u001b[39m, StringType(), \u001b[38;5;28;01mTrue\u001b[39;00m),\n",
       "\u001b[1;32m     35\u001b[0m     StructField(\u001b[38;5;124m\"\u001b[39m\u001b[38;5;124mflight_number\u001b[39m\u001b[38;5;124m\"\u001b[39m, StringType(), \u001b[38;5;28;01mTrue\u001b[39;00m),\n",
       "\u001b[0;32m   (...)\u001b[0m\n",
       "\u001b[1;32m     41\u001b[0m     StructField(\u001b[38;5;124m\"\u001b[39m\u001b[38;5;124mgate_destination\u001b[39m\u001b[38;5;124m\"\u001b[39m, StringType(), \u001b[38;5;28;01mTrue\u001b[39;00m)\n",
       "\u001b[1;32m     42\u001b[0m ])\n",
       "\u001b[1;32m     44\u001b[0m \u001b[38;5;66;03m# Create a list of Row objects\u001b[39;00m\n",
       "\u001b[0;32m---> 45\u001b[0m rows \u001b[38;5;241m=\u001b[39m [\n",
       "\u001b[1;32m     46\u001b[0m     Row(\n",
       "\u001b[1;32m     47\u001b[0m         flight_id\u001b[38;5;241m=\u001b[39mflight\u001b[38;5;241m.\u001b[39mget(\u001b[38;5;124m'\u001b[39m\u001b[38;5;124mident\u001b[39m\u001b[38;5;124m'\u001b[39m, \u001b[38;5;124m'\u001b[39m\u001b[38;5;124mN/A\u001b[39m\u001b[38;5;124m'\u001b[39m),\n",
       "\u001b[1;32m     48\u001b[0m         flight_number\u001b[38;5;241m=\u001b[39mflight\u001b[38;5;241m.\u001b[39mget(\u001b[38;5;124m'\u001b[39m\u001b[38;5;124mflight_number\u001b[39m\u001b[38;5;124m'\u001b[39m, \u001b[38;5;124m'\u001b[39m\u001b[38;5;124mN/A\u001b[39m\u001b[38;5;124m'\u001b[39m),\n",
       "\u001b[1;32m     49\u001b[0m         aircraft_type\u001b[38;5;241m=\u001b[39mflight\u001b[38;5;241m.\u001b[39mget(\u001b[38;5;124m'\u001b[39m\u001b[38;5;124maircraft_type\u001b[39m\u001b[38;5;124m'\u001b[39m, \u001b[38;5;124m'\u001b[39m\u001b[38;5;124mN/A\u001b[39m\u001b[38;5;124m'\u001b[39m),\n",
       "\u001b[1;32m     50\u001b[0m         scheduled_departure_myt\u001b[38;5;241m=\u001b[39mconvert_utc_to_myt(flight\u001b[38;5;241m.\u001b[39mget(\u001b[38;5;124m'\u001b[39m\u001b[38;5;124mscheduled_off\u001b[39m\u001b[38;5;124m'\u001b[39m, \u001b[38;5;124m'\u001b[39m\u001b[38;5;124mN/A\u001b[39m\u001b[38;5;124m'\u001b[39m)),\n",
       "\u001b[1;32m     51\u001b[0m         actual_departure_myt\u001b[38;5;241m=\u001b[39mconvert_utc_to_myt(flight\u001b[38;5;241m.\u001b[39mget(\u001b[38;5;124m'\u001b[39m\u001b[38;5;124mactual_off\u001b[39m\u001b[38;5;124m'\u001b[39m, \u001b[38;5;124m'\u001b[39m\u001b[38;5;124mN/A\u001b[39m\u001b[38;5;124m'\u001b[39m)),\n",
       "\u001b[1;32m     52\u001b[0m         origin\u001b[38;5;241m=\u001b[39mflight\u001b[38;5;241m.\u001b[39mget(\u001b[38;5;124m'\u001b[39m\u001b[38;5;124morigin\u001b[39m\u001b[38;5;124m'\u001b[39m, {})\u001b[38;5;241m.\u001b[39mget(\u001b[38;5;124m'\u001b[39m\u001b[38;5;124mname\u001b[39m\u001b[38;5;124m'\u001b[39m, \u001b[38;5;124m'\u001b[39m\u001b[38;5;124mN/A\u001b[39m\u001b[38;5;124m'\u001b[39m),\n",
       "\u001b[1;32m     53\u001b[0m         destination\u001b[38;5;241m=\u001b[39mflight\u001b[38;5;241m.\u001b[39mget(\u001b[38;5;124m'\u001b[39m\u001b[38;5;124mdestination\u001b[39m\u001b[38;5;124m'\u001b[39m, {})\u001b[38;5;241m.\u001b[39mget(\u001b[38;5;124m'\u001b[39m\u001b[38;5;124mname\u001b[39m\u001b[38;5;124m'\u001b[39m, \u001b[38;5;124m'\u001b[39m\u001b[38;5;124mN/A\u001b[39m\u001b[38;5;124m'\u001b[39m),\n",
       "\u001b[1;32m     54\u001b[0m         gate_destination\u001b[38;5;241m=\u001b[39mflight\u001b[38;5;241m.\u001b[39mget(\u001b[38;5;124m'\u001b[39m\u001b[38;5;124mgate_destination\u001b[39m\u001b[38;5;124m'\u001b[39m, \u001b[38;5;124m'\u001b[39m\u001b[38;5;124mN/A\u001b[39m\u001b[38;5;124m'\u001b[39m)\n",
       "\u001b[1;32m     55\u001b[0m     )\n",
       "\u001b[1;32m     56\u001b[0m     \u001b[38;5;28;01mfor\u001b[39;00m flight \u001b[38;5;129;01min\u001b[39;00m data\u001b[38;5;241m.\u001b[39mget(\u001b[38;5;124m'\u001b[39m\u001b[38;5;124mdepartures\u001b[39m\u001b[38;5;124m'\u001b[39m, [])\n",
       "\u001b[1;32m     57\u001b[0m ]\n",
       "\u001b[1;32m     59\u001b[0m \u001b[38;5;66;03m# Convert the list of Rows into a DataFrame with the predefined schema\u001b[39;00m\n",
       "\u001b[1;32m     60\u001b[0m df \u001b[38;5;241m=\u001b[39m spark\u001b[38;5;241m.\u001b[39mcreateDataFrame(rows, schema\u001b[38;5;241m=\u001b[39mschema)\n",
       "\n",
       "File \u001b[0;32m<command-189052836661557>, line 53\u001b[0m, in \u001b[0;36m<listcomp>\u001b[0;34m(.0)\u001b[0m\n",
       "\u001b[1;32m     33\u001b[0m schema \u001b[38;5;241m=\u001b[39m StructType([\n",
       "\u001b[1;32m     34\u001b[0m     StructField(\u001b[38;5;124m\"\u001b[39m\u001b[38;5;124mflight_id\u001b[39m\u001b[38;5;124m\"\u001b[39m, StringType(), \u001b[38;5;28;01mTrue\u001b[39;00m),\n",
       "\u001b[1;32m     35\u001b[0m     StructField(\u001b[38;5;124m\"\u001b[39m\u001b[38;5;124mflight_number\u001b[39m\u001b[38;5;124m\"\u001b[39m, StringType(), \u001b[38;5;28;01mTrue\u001b[39;00m),\n",
       "\u001b[0;32m   (...)\u001b[0m\n",
       "\u001b[1;32m     41\u001b[0m     StructField(\u001b[38;5;124m\"\u001b[39m\u001b[38;5;124mgate_destination\u001b[39m\u001b[38;5;124m\"\u001b[39m, StringType(), \u001b[38;5;28;01mTrue\u001b[39;00m)\n",
       "\u001b[1;32m     42\u001b[0m ])\n",
       "\u001b[1;32m     44\u001b[0m \u001b[38;5;66;03m# Create a list of Row objects\u001b[39;00m\n",
       "\u001b[1;32m     45\u001b[0m rows \u001b[38;5;241m=\u001b[39m [\n",
       "\u001b[1;32m     46\u001b[0m     Row(\n",
       "\u001b[1;32m     47\u001b[0m         flight_id\u001b[38;5;241m=\u001b[39mflight\u001b[38;5;241m.\u001b[39mget(\u001b[38;5;124m'\u001b[39m\u001b[38;5;124mident\u001b[39m\u001b[38;5;124m'\u001b[39m, \u001b[38;5;124m'\u001b[39m\u001b[38;5;124mN/A\u001b[39m\u001b[38;5;124m'\u001b[39m),\n",
       "\u001b[1;32m     48\u001b[0m         flight_number\u001b[38;5;241m=\u001b[39mflight\u001b[38;5;241m.\u001b[39mget(\u001b[38;5;124m'\u001b[39m\u001b[38;5;124mflight_number\u001b[39m\u001b[38;5;124m'\u001b[39m, \u001b[38;5;124m'\u001b[39m\u001b[38;5;124mN/A\u001b[39m\u001b[38;5;124m'\u001b[39m),\n",
       "\u001b[1;32m     49\u001b[0m         aircraft_type\u001b[38;5;241m=\u001b[39mflight\u001b[38;5;241m.\u001b[39mget(\u001b[38;5;124m'\u001b[39m\u001b[38;5;124maircraft_type\u001b[39m\u001b[38;5;124m'\u001b[39m, \u001b[38;5;124m'\u001b[39m\u001b[38;5;124mN/A\u001b[39m\u001b[38;5;124m'\u001b[39m),\n",
       "\u001b[1;32m     50\u001b[0m         scheduled_departure_myt\u001b[38;5;241m=\u001b[39mconvert_utc_to_myt(flight\u001b[38;5;241m.\u001b[39mget(\u001b[38;5;124m'\u001b[39m\u001b[38;5;124mscheduled_off\u001b[39m\u001b[38;5;124m'\u001b[39m, \u001b[38;5;124m'\u001b[39m\u001b[38;5;124mN/A\u001b[39m\u001b[38;5;124m'\u001b[39m)),\n",
       "\u001b[1;32m     51\u001b[0m         actual_departure_myt\u001b[38;5;241m=\u001b[39mconvert_utc_to_myt(flight\u001b[38;5;241m.\u001b[39mget(\u001b[38;5;124m'\u001b[39m\u001b[38;5;124mactual_off\u001b[39m\u001b[38;5;124m'\u001b[39m, \u001b[38;5;124m'\u001b[39m\u001b[38;5;124mN/A\u001b[39m\u001b[38;5;124m'\u001b[39m)),\n",
       "\u001b[1;32m     52\u001b[0m         origin\u001b[38;5;241m=\u001b[39mflight\u001b[38;5;241m.\u001b[39mget(\u001b[38;5;124m'\u001b[39m\u001b[38;5;124morigin\u001b[39m\u001b[38;5;124m'\u001b[39m, {})\u001b[38;5;241m.\u001b[39mget(\u001b[38;5;124m'\u001b[39m\u001b[38;5;124mname\u001b[39m\u001b[38;5;124m'\u001b[39m, \u001b[38;5;124m'\u001b[39m\u001b[38;5;124mN/A\u001b[39m\u001b[38;5;124m'\u001b[39m),\n",
       "\u001b[0;32m---> 53\u001b[0m         destination\u001b[38;5;241m=\u001b[39m\u001b[43mflight\u001b[49m\u001b[38;5;241;43m.\u001b[39;49m\u001b[43mget\u001b[49m\u001b[43m(\u001b[49m\u001b[38;5;124;43m'\u001b[39;49m\u001b[38;5;124;43mdestination\u001b[39;49m\u001b[38;5;124;43m'\u001b[39;49m\u001b[43m,\u001b[49m\u001b[43m \u001b[49m\u001b[43m{\u001b[49m\u001b[43m}\u001b[49m\u001b[43m)\u001b[49m\u001b[38;5;241;43m.\u001b[39;49m\u001b[43mget\u001b[49m(\u001b[38;5;124m'\u001b[39m\u001b[38;5;124mname\u001b[39m\u001b[38;5;124m'\u001b[39m, \u001b[38;5;124m'\u001b[39m\u001b[38;5;124mN/A\u001b[39m\u001b[38;5;124m'\u001b[39m),\n",
       "\u001b[1;32m     54\u001b[0m         gate_destination\u001b[38;5;241m=\u001b[39mflight\u001b[38;5;241m.\u001b[39mget(\u001b[38;5;124m'\u001b[39m\u001b[38;5;124mgate_destination\u001b[39m\u001b[38;5;124m'\u001b[39m, \u001b[38;5;124m'\u001b[39m\u001b[38;5;124mN/A\u001b[39m\u001b[38;5;124m'\u001b[39m)\n",
       "\u001b[1;32m     55\u001b[0m     )\n",
       "\u001b[1;32m     56\u001b[0m     \u001b[38;5;28;01mfor\u001b[39;00m flight \u001b[38;5;129;01min\u001b[39;00m data\u001b[38;5;241m.\u001b[39mget(\u001b[38;5;124m'\u001b[39m\u001b[38;5;124mdepartures\u001b[39m\u001b[38;5;124m'\u001b[39m, [])\n",
       "\u001b[1;32m     57\u001b[0m ]\n",
       "\u001b[1;32m     59\u001b[0m \u001b[38;5;66;03m# Convert the list of Rows into a DataFrame with the predefined schema\u001b[39;00m\n",
       "\u001b[1;32m     60\u001b[0m df \u001b[38;5;241m=\u001b[39m spark\u001b[38;5;241m.\u001b[39mcreateDataFrame(rows, schema\u001b[38;5;241m=\u001b[39mschema)\n",
       "\n",
       "\u001b[0;31mAttributeError\u001b[0m: 'NoneType' object has no attribute 'get'"
      ]
     },
     "metadata": {
      "application/vnd.databricks.v1+output": {
       "addedWidgets": {},
       "arguments": {},
       "datasetInfos": [],
       "jupyterProps": {
        "ename": "AttributeError",
        "evalue": "'NoneType' object has no attribute 'get'"
       },
       "metadata": {
        "errorSummary": "Command skipped"
       },
       "removedWidgets": [],
       "sqlProps": null,
       "stackFrames": [
        "\u001b[0;31m---------------------------------------------------------------------------\u001b[0m",
        "\u001b[0;31mAttributeError\u001b[0m                            Traceback (most recent call last)",
        "File \u001b[0;32m<command-189052836661557>, line 68\u001b[0m\n\u001b[1;32m     66\u001b[0m \u001b[38;5;66;03m# Check if the data is in JSON format\u001b[39;00m\n\u001b[1;32m     67\u001b[0m \u001b[38;5;28;01mif\u001b[39;00m \u001b[38;5;28misinstance\u001b[39m(recent_departures, \u001b[38;5;28mdict\u001b[39m):\n\u001b[0;32m---> 68\u001b[0m     df_departures \u001b[38;5;241m=\u001b[39m convert_to_dataframe(spark, recent_departures)\n\u001b[1;32m     69\u001b[0m     df_departures\u001b[38;5;241m.\u001b[39mshow()  \u001b[38;5;66;03m# Display the DataFrame\u001b[39;00m\n\u001b[1;32m     70\u001b[0m \u001b[38;5;28;01melse\u001b[39;00m:\n",
        "File \u001b[0;32m<command-189052836661557>, line 45\u001b[0m, in \u001b[0;36mconvert_to_dataframe\u001b[0;34m(spark, data)\u001b[0m\n\u001b[1;32m     33\u001b[0m schema \u001b[38;5;241m=\u001b[39m StructType([\n\u001b[1;32m     34\u001b[0m     StructField(\u001b[38;5;124m\"\u001b[39m\u001b[38;5;124mflight_id\u001b[39m\u001b[38;5;124m\"\u001b[39m, StringType(), \u001b[38;5;28;01mTrue\u001b[39;00m),\n\u001b[1;32m     35\u001b[0m     StructField(\u001b[38;5;124m\"\u001b[39m\u001b[38;5;124mflight_number\u001b[39m\u001b[38;5;124m\"\u001b[39m, StringType(), \u001b[38;5;28;01mTrue\u001b[39;00m),\n\u001b[0;32m   (...)\u001b[0m\n\u001b[1;32m     41\u001b[0m     StructField(\u001b[38;5;124m\"\u001b[39m\u001b[38;5;124mgate_destination\u001b[39m\u001b[38;5;124m\"\u001b[39m, StringType(), \u001b[38;5;28;01mTrue\u001b[39;00m)\n\u001b[1;32m     42\u001b[0m ])\n\u001b[1;32m     44\u001b[0m \u001b[38;5;66;03m# Create a list of Row objects\u001b[39;00m\n\u001b[0;32m---> 45\u001b[0m rows \u001b[38;5;241m=\u001b[39m [\n\u001b[1;32m     46\u001b[0m     Row(\n\u001b[1;32m     47\u001b[0m         flight_id\u001b[38;5;241m=\u001b[39mflight\u001b[38;5;241m.\u001b[39mget(\u001b[38;5;124m'\u001b[39m\u001b[38;5;124mident\u001b[39m\u001b[38;5;124m'\u001b[39m, \u001b[38;5;124m'\u001b[39m\u001b[38;5;124mN/A\u001b[39m\u001b[38;5;124m'\u001b[39m),\n\u001b[1;32m     48\u001b[0m         flight_number\u001b[38;5;241m=\u001b[39mflight\u001b[38;5;241m.\u001b[39mget(\u001b[38;5;124m'\u001b[39m\u001b[38;5;124mflight_number\u001b[39m\u001b[38;5;124m'\u001b[39m, \u001b[38;5;124m'\u001b[39m\u001b[38;5;124mN/A\u001b[39m\u001b[38;5;124m'\u001b[39m),\n\u001b[1;32m     49\u001b[0m         aircraft_type\u001b[38;5;241m=\u001b[39mflight\u001b[38;5;241m.\u001b[39mget(\u001b[38;5;124m'\u001b[39m\u001b[38;5;124maircraft_type\u001b[39m\u001b[38;5;124m'\u001b[39m, \u001b[38;5;124m'\u001b[39m\u001b[38;5;124mN/A\u001b[39m\u001b[38;5;124m'\u001b[39m),\n\u001b[1;32m     50\u001b[0m         scheduled_departure_myt\u001b[38;5;241m=\u001b[39mconvert_utc_to_myt(flight\u001b[38;5;241m.\u001b[39mget(\u001b[38;5;124m'\u001b[39m\u001b[38;5;124mscheduled_off\u001b[39m\u001b[38;5;124m'\u001b[39m, \u001b[38;5;124m'\u001b[39m\u001b[38;5;124mN/A\u001b[39m\u001b[38;5;124m'\u001b[39m)),\n\u001b[1;32m     51\u001b[0m         actual_departure_myt\u001b[38;5;241m=\u001b[39mconvert_utc_to_myt(flight\u001b[38;5;241m.\u001b[39mget(\u001b[38;5;124m'\u001b[39m\u001b[38;5;124mactual_off\u001b[39m\u001b[38;5;124m'\u001b[39m, \u001b[38;5;124m'\u001b[39m\u001b[38;5;124mN/A\u001b[39m\u001b[38;5;124m'\u001b[39m)),\n\u001b[1;32m     52\u001b[0m         origin\u001b[38;5;241m=\u001b[39mflight\u001b[38;5;241m.\u001b[39mget(\u001b[38;5;124m'\u001b[39m\u001b[38;5;124morigin\u001b[39m\u001b[38;5;124m'\u001b[39m, {})\u001b[38;5;241m.\u001b[39mget(\u001b[38;5;124m'\u001b[39m\u001b[38;5;124mname\u001b[39m\u001b[38;5;124m'\u001b[39m, \u001b[38;5;124m'\u001b[39m\u001b[38;5;124mN/A\u001b[39m\u001b[38;5;124m'\u001b[39m),\n\u001b[1;32m     53\u001b[0m         destination\u001b[38;5;241m=\u001b[39mflight\u001b[38;5;241m.\u001b[39mget(\u001b[38;5;124m'\u001b[39m\u001b[38;5;124mdestination\u001b[39m\u001b[38;5;124m'\u001b[39m, {})\u001b[38;5;241m.\u001b[39mget(\u001b[38;5;124m'\u001b[39m\u001b[38;5;124mname\u001b[39m\u001b[38;5;124m'\u001b[39m, \u001b[38;5;124m'\u001b[39m\u001b[38;5;124mN/A\u001b[39m\u001b[38;5;124m'\u001b[39m),\n\u001b[1;32m     54\u001b[0m         gate_destination\u001b[38;5;241m=\u001b[39mflight\u001b[38;5;241m.\u001b[39mget(\u001b[38;5;124m'\u001b[39m\u001b[38;5;124mgate_destination\u001b[39m\u001b[38;5;124m'\u001b[39m, \u001b[38;5;124m'\u001b[39m\u001b[38;5;124mN/A\u001b[39m\u001b[38;5;124m'\u001b[39m)\n\u001b[1;32m     55\u001b[0m     )\n\u001b[1;32m     56\u001b[0m     \u001b[38;5;28;01mfor\u001b[39;00m flight \u001b[38;5;129;01min\u001b[39;00m data\u001b[38;5;241m.\u001b[39mget(\u001b[38;5;124m'\u001b[39m\u001b[38;5;124mdepartures\u001b[39m\u001b[38;5;124m'\u001b[39m, [])\n\u001b[1;32m     57\u001b[0m ]\n\u001b[1;32m     59\u001b[0m \u001b[38;5;66;03m# Convert the list of Rows into a DataFrame with the predefined schema\u001b[39;00m\n\u001b[1;32m     60\u001b[0m df \u001b[38;5;241m=\u001b[39m spark\u001b[38;5;241m.\u001b[39mcreateDataFrame(rows, schema\u001b[38;5;241m=\u001b[39mschema)\n",
        "File \u001b[0;32m<command-189052836661557>, line 53\u001b[0m, in \u001b[0;36m<listcomp>\u001b[0;34m(.0)\u001b[0m\n\u001b[1;32m     33\u001b[0m schema \u001b[38;5;241m=\u001b[39m StructType([\n\u001b[1;32m     34\u001b[0m     StructField(\u001b[38;5;124m\"\u001b[39m\u001b[38;5;124mflight_id\u001b[39m\u001b[38;5;124m\"\u001b[39m, StringType(), \u001b[38;5;28;01mTrue\u001b[39;00m),\n\u001b[1;32m     35\u001b[0m     StructField(\u001b[38;5;124m\"\u001b[39m\u001b[38;5;124mflight_number\u001b[39m\u001b[38;5;124m\"\u001b[39m, StringType(), \u001b[38;5;28;01mTrue\u001b[39;00m),\n\u001b[0;32m   (...)\u001b[0m\n\u001b[1;32m     41\u001b[0m     StructField(\u001b[38;5;124m\"\u001b[39m\u001b[38;5;124mgate_destination\u001b[39m\u001b[38;5;124m\"\u001b[39m, StringType(), \u001b[38;5;28;01mTrue\u001b[39;00m)\n\u001b[1;32m     42\u001b[0m ])\n\u001b[1;32m     44\u001b[0m \u001b[38;5;66;03m# Create a list of Row objects\u001b[39;00m\n\u001b[1;32m     45\u001b[0m rows \u001b[38;5;241m=\u001b[39m [\n\u001b[1;32m     46\u001b[0m     Row(\n\u001b[1;32m     47\u001b[0m         flight_id\u001b[38;5;241m=\u001b[39mflight\u001b[38;5;241m.\u001b[39mget(\u001b[38;5;124m'\u001b[39m\u001b[38;5;124mident\u001b[39m\u001b[38;5;124m'\u001b[39m, \u001b[38;5;124m'\u001b[39m\u001b[38;5;124mN/A\u001b[39m\u001b[38;5;124m'\u001b[39m),\n\u001b[1;32m     48\u001b[0m         flight_number\u001b[38;5;241m=\u001b[39mflight\u001b[38;5;241m.\u001b[39mget(\u001b[38;5;124m'\u001b[39m\u001b[38;5;124mflight_number\u001b[39m\u001b[38;5;124m'\u001b[39m, \u001b[38;5;124m'\u001b[39m\u001b[38;5;124mN/A\u001b[39m\u001b[38;5;124m'\u001b[39m),\n\u001b[1;32m     49\u001b[0m         aircraft_type\u001b[38;5;241m=\u001b[39mflight\u001b[38;5;241m.\u001b[39mget(\u001b[38;5;124m'\u001b[39m\u001b[38;5;124maircraft_type\u001b[39m\u001b[38;5;124m'\u001b[39m, \u001b[38;5;124m'\u001b[39m\u001b[38;5;124mN/A\u001b[39m\u001b[38;5;124m'\u001b[39m),\n\u001b[1;32m     50\u001b[0m         scheduled_departure_myt\u001b[38;5;241m=\u001b[39mconvert_utc_to_myt(flight\u001b[38;5;241m.\u001b[39mget(\u001b[38;5;124m'\u001b[39m\u001b[38;5;124mscheduled_off\u001b[39m\u001b[38;5;124m'\u001b[39m, \u001b[38;5;124m'\u001b[39m\u001b[38;5;124mN/A\u001b[39m\u001b[38;5;124m'\u001b[39m)),\n\u001b[1;32m     51\u001b[0m         actual_departure_myt\u001b[38;5;241m=\u001b[39mconvert_utc_to_myt(flight\u001b[38;5;241m.\u001b[39mget(\u001b[38;5;124m'\u001b[39m\u001b[38;5;124mactual_off\u001b[39m\u001b[38;5;124m'\u001b[39m, \u001b[38;5;124m'\u001b[39m\u001b[38;5;124mN/A\u001b[39m\u001b[38;5;124m'\u001b[39m)),\n\u001b[1;32m     52\u001b[0m         origin\u001b[38;5;241m=\u001b[39mflight\u001b[38;5;241m.\u001b[39mget(\u001b[38;5;124m'\u001b[39m\u001b[38;5;124morigin\u001b[39m\u001b[38;5;124m'\u001b[39m, {})\u001b[38;5;241m.\u001b[39mget(\u001b[38;5;124m'\u001b[39m\u001b[38;5;124mname\u001b[39m\u001b[38;5;124m'\u001b[39m, \u001b[38;5;124m'\u001b[39m\u001b[38;5;124mN/A\u001b[39m\u001b[38;5;124m'\u001b[39m),\n\u001b[0;32m---> 53\u001b[0m         destination\u001b[38;5;241m=\u001b[39m\u001b[43mflight\u001b[49m\u001b[38;5;241;43m.\u001b[39;49m\u001b[43mget\u001b[49m\u001b[43m(\u001b[49m\u001b[38;5;124;43m'\u001b[39;49m\u001b[38;5;124;43mdestination\u001b[39;49m\u001b[38;5;124;43m'\u001b[39;49m\u001b[43m,\u001b[49m\u001b[43m \u001b[49m\u001b[43m{\u001b[49m\u001b[43m}\u001b[49m\u001b[43m)\u001b[49m\u001b[38;5;241;43m.\u001b[39;49m\u001b[43mget\u001b[49m(\u001b[38;5;124m'\u001b[39m\u001b[38;5;124mname\u001b[39m\u001b[38;5;124m'\u001b[39m, \u001b[38;5;124m'\u001b[39m\u001b[38;5;124mN/A\u001b[39m\u001b[38;5;124m'\u001b[39m),\n\u001b[1;32m     54\u001b[0m         gate_destination\u001b[38;5;241m=\u001b[39mflight\u001b[38;5;241m.\u001b[39mget(\u001b[38;5;124m'\u001b[39m\u001b[38;5;124mgate_destination\u001b[39m\u001b[38;5;124m'\u001b[39m, \u001b[38;5;124m'\u001b[39m\u001b[38;5;124mN/A\u001b[39m\u001b[38;5;124m'\u001b[39m)\n\u001b[1;32m     55\u001b[0m     )\n\u001b[1;32m     56\u001b[0m     \u001b[38;5;28;01mfor\u001b[39;00m flight \u001b[38;5;129;01min\u001b[39;00m data\u001b[38;5;241m.\u001b[39mget(\u001b[38;5;124m'\u001b[39m\u001b[38;5;124mdepartures\u001b[39m\u001b[38;5;124m'\u001b[39m, [])\n\u001b[1;32m     57\u001b[0m ]\n\u001b[1;32m     59\u001b[0m \u001b[38;5;66;03m# Convert the list of Rows into a DataFrame with the predefined schema\u001b[39;00m\n\u001b[1;32m     60\u001b[0m df \u001b[38;5;241m=\u001b[39m spark\u001b[38;5;241m.\u001b[39mcreateDataFrame(rows, schema\u001b[38;5;241m=\u001b[39mschema)\n",
        "\u001b[0;31mAttributeError\u001b[0m: 'NoneType' object has no attribute 'get'"
       ],
       "type": "baseError"
      }
     },
     "output_type": "display_data"
    }
   ],
   "source": [
    "# Sanitize the start time for use in filenames and paths\n",
    "sanitized_start_time = sanitize_filename(start_time_myt)\n",
    "\n",
    "# Define the folder path before writing the file\n",
    "folder_path_departures = f'/mnt/raw/departures/departures_{sanitized_start_time}/'\n",
    "\n",
    "# Coalesce the DataFrame to a single partition\n",
    "df_departures_coalesced = df_departures.coalesce(1)\n",
    "\n",
    "# Write the coalesced DataFrame to a Parquet file in the specified folder\n",
    "df_departures_coalesced.write.mode('overwrite').parquet(folder_path_departures)\n",
    "\n",
    "# List the files in the directory after writing the Parquet file\n",
    "files_departures = dbutils.fs.ls(folder_path_departures)\n",
    "\n",
    "# Correct the file path for renaming\n",
    "corrected_file_path_departures = f\"{folder_path_departures}departures_{sanitized_start_time}.parquet\"\n",
    "\n",
    "# Find the part file and rename it\n",
    "for file in files_departures:\n",
    "    if file.name.startswith(\"part-\"):\n",
    "        # Move (rename) the part file to the desired file name\n",
    "        dbutils.fs.mv(file.path, corrected_file_path_departures)\n",
    "        break\n"
   ]
  },
  {
   "cell_type": "markdown",
   "metadata": {
    "application/vnd.databricks.v1+cell": {
     "cellMetadata": {
      "byteLimit": 2048000,
      "rowLimit": 10000
     },
     "inputWidgets": {},
     "nuid": "3c9af319-39f2-45f3-b1bb-0e309a67bd3b",
     "showTitle": false,
     "title": ""
    }
   },
   "source": [
    "TRANSFORMATION ARRIVAL"
   ]
  },
  {
   "cell_type": "code",
   "execution_count": null,
   "metadata": {
    "application/vnd.databricks.v1+cell": {
     "cellMetadata": {
      "byteLimit": 2048000,
      "rowLimit": 10000
     },
     "inputWidgets": {},
     "nuid": "7671561c-143f-4e31-b1d6-79383a0b1244",
     "showTitle": false,
     "title": ""
    }
   },
   "outputs": [
    {
     "name": "stdout",
     "output_type": "stream",
     "text": [
      "+---------+-------------+-------------+---------------------+-------------------+--------------------+------------------+----------------+\n",
      "|flight_id|flight_number|aircraft_type|scheduled_arrival_myt| actual_arrival_myt|              origin|       destination|gate_destination|\n",
      "+---------+-------------+-------------+---------------------+-------------------+--------------------+------------------+----------------+\n",
      "|   MAS741|          741|        B738 |  2024-09-03 15:42:00|2024-09-03 15:59:06|        Yangon Int'l|Kuala Lumpur Int'l|             H10|\n",
      "|  MXD2103|         2103|        B38M |  2024-09-03 16:05:00|2024-09-03 15:55:12|        Penang Int'l|Kuala Lumpur Int'l|              B2|\n",
      "|   MXD714|          714|        B738 |  2024-09-03 15:25:00|2024-09-03 15:52:20|         Dubai Int'l|Kuala Lumpur Int'l|             C22|\n",
      "|   AXM139|          139|        A320 |  2024-09-03 15:43:00|2024-09-03 15:50:08|     Hong Kong Int'l|Kuala Lumpur Int'l|              L4|\n",
      "|    MAS53|           53|        A332 |  2024-09-03 15:41:00|2024-09-03 15:49:28|        Kansai Int'l|Kuala Lumpur Int'l|             C35|\n",
      "|   MXD158|          158|        B738 |  2024-09-03 15:45:00|2024-09-03 15:47:42|Ngurah Rai/Bali Intl|Kuala Lumpur Int'l|              H6|\n",
      "|  MAS1427|         1427|        B738 |  2024-09-03 15:53:00|2024-09-03 15:44:31| Sultan Ismail Petra|Kuala Lumpur Int'l|              B5|\n",
      "|   MXD178|          178|        B738 |  2024-09-03 15:25:00|2024-09-03 15:42:05|Ngurah Rai/Bali Intl|Kuala Lumpur Int'l|              H8|\n",
      "|   MXD541|          541|        B738 |  2024-09-03 15:35:00|2024-09-03 15:39:29|        Phuket Int'l|Kuala Lumpur Int'l|              H8|\n",
      "|   AXM157|          157|        A20N |  2024-09-03 15:53:00|2024-09-03 15:38:08|Guilin Liangjiang...|Kuala Lumpur Int'l|             Q15|\n",
      "|   MXD315|          315|        B38M |  2024-09-03 15:35:00|2024-09-03 15:36:07|Jakarta-Soekarno-...|Kuala Lumpur Int'l|             C13|\n",
      "|   AXM127|          127|        A320 |  2024-09-03 15:02:00|2024-09-03 15:34:17|Shenzhen Bao'an I...|Kuala Lumpur Int'l|              P7|\n",
      "|  MAS1209|         1209|        B738 |  2024-09-03 15:47:00|2024-09-03 15:33:52|  Sultan Abdul Halim|Kuala Lumpur Int'l|             A10|\n",
      "|   AXM712|          712|        A320 |  2024-09-03 15:20:00|2024-09-03 15:32:00|    Singapore Changi|Kuala Lumpur Int'l|            NULL|\n",
      "|  AXM5131|         5131|        A320 |  2024-09-03 15:34:00|2024-09-03 15:28:36| Kota Kinabalu Int'l|Kuala Lumpur Int'l|            NULL|\n",
      "+---------+-------------+-------------+---------------------+-------------------+--------------------+------------------+----------------+\n",
      "\n"
     ]
    }
   ],
   "source": [
    "def get_recent_arrivals(airport_code, start_time_myt):\n",
    "    end_time_iso = convert_myt_to_utc(end_time_myt) + 'Z'\n",
    "    start_time_iso = convert_myt_to_utc(start_time_myt) + 'Z'\n",
    "    \n",
    "    endpoint = f'{BASE_URL}/airports/{airport_code}/flights/arrivals'\n",
    "    params = {\n",
    "        'start': start_time_iso,\n",
    "        'end': end_time_iso\n",
    "    }\n",
    "    \n",
    "    response = requests.get(endpoint, headers=headers, params=params)\n",
    "    if response.status_code == 200:\n",
    "        return response.json()\n",
    "    else:\n",
    "        return response.text\n",
    "\n",
    "def convert_to_dataframe(spark, data):\n",
    "    rows = [\n",
    "        Row(\n",
    "            flight_id=flight.get('ident', 'N/A'),\n",
    "            flight_number=flight.get('flight_number', 'N/A'),\n",
    "            aircraft_type=flight.get('aircraft_type', 'N/A'),\n",
    "            scheduled_arrival_myt=convert_utc_to_myt(flight.get('scheduled_on', 'N/A')),\n",
    "            actual_arrival_myt=convert_utc_to_myt(flight.get('actual_on', 'N/A')),\n",
    "            origin=flight.get('origin', {}).get('name', 'N/A'),\n",
    "            destination=flight.get('destination', {}).get('name', 'N/A'),\n",
    "            gate_destination=flight.get('gate_destination', 'N/A')\n",
    "        )\n",
    "        for flight in data.get('arrivals', [])\n",
    "    ]\n",
    "    \n",
    "    df = spark.createDataFrame(rows)\n",
    "    return df\n",
    "\n",
    "# Fetch recent arrivals\n",
    "recent_arrivals = get_recent_arrivals(airport_code, start_time_myt)\n",
    "\n",
    "# Check if the data is in JSON format\n",
    "if isinstance(recent_arrivals, dict):\n",
    "    df_arrivals = convert_to_dataframe(spark, recent_arrivals)\n",
    "    df_arrivals.show()  # Display the DataFrame\n",
    "else:\n",
    "    print(\"Error fetching data:\", recent_arrivals)\n"
   ]
  },
  {
   "cell_type": "markdown",
   "metadata": {
    "application/vnd.databricks.v1+cell": {
     "cellMetadata": {
      "byteLimit": 2048000,
      "rowLimit": 10000
     },
     "inputWidgets": {},
     "nuid": "0778ad3f-25ef-416f-9b3d-ce76c549a19b",
     "showTitle": false,
     "title": ""
    }
   },
   "source": [
    "SAVE FILES ARRIVALS"
   ]
  },
  {
   "cell_type": "code",
   "execution_count": null,
   "metadata": {
    "application/vnd.databricks.v1+cell": {
     "cellMetadata": {
      "byteLimit": 2048000,
      "rowLimit": 10000
     },
     "inputWidgets": {},
     "nuid": "566ca18a-376a-4da5-8c9b-6cddbf62ae61",
     "showTitle": false,
     "title": ""
    }
   },
   "outputs": [],
   "source": [
    "# Define the folder path before writing the file\n",
    "folder_path_arrivals = f'/mnt/raw/arrivals/arrivals_{sanitized_start_time}/'\n",
    "\n",
    "# Coalesce the DataFrame to a single partition\n",
    "df_arrivals_coalesced = df_arrivals.coalesce(1)\n",
    "\n",
    "# Write the coalesced DataFrame to a Parquet file in the specified folder\n",
    "df_arrivals_coalesced.write.mode('overwrite').parquet(folder_path_arrivals)\n",
    "\n",
    "# List the files in the directory after writing the Parquet file\n",
    "files_arrivals = dbutils.fs.ls(folder_path_arrivals)\n",
    "\n",
    "# Correct the file path for renaming\n",
    "corrected_file_path_arrivals = f\"{folder_path_arrivals}arrivals_{sanitized_start_time}.parquet\"\n",
    "\n",
    "# Find the part file and rename it\n",
    "for file in files_arrivals:\n",
    "    if file.name.startswith(\"part-\"):\n",
    "        # Move (rename) the part file to the desired file name\n",
    "        dbutils.fs.mv(file.path, corrected_file_path_arrivals)\n",
    "        break"
   ]
  }
 ],
 "metadata": {
  "application/vnd.databricks.v1+notebook": {
   "dashboards": [],
   "environmentMetadata": {
    "base_environment": "",
    "client": "1"
   },
   "language": "python",
   "notebookMetadata": {
    "pythonIndentUnit": 4
   },
   "notebookName": "(Clone) api to raw",
   "widgets": {}
  },
  "language_info": {
   "name": "python"
  }
 },
 "nbformat": 4,
 "nbformat_minor": 0
}
